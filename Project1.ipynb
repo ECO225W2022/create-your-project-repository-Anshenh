{
 "cells": [
  {
   "cell_type": "code",
   "execution_count": 4,
   "id": "4fa0a844",
   "metadata": {},
   "outputs": [],
   "source": [
    "import random\n",
    "import numpy as np\n",
    "import pandas as pd\n",
    "import qeds\n",
    "import matplotlib.pyplot as plt\n",
    "\n",
    "%matplotlib inline\n",
    "# activate plot theme\n",
    "import qeds\n",
    "qeds.themes.mpl_style();"
   ]
  },
  {
   "cell_type": "markdown",
   "id": "5ac2835d",
   "metadata": {},
   "source": [
    "## Relationship with  1 - Anshen Huang\n",
    "\n"
   ]
  },
  {
   "cell_type": "code",
   "execution_count": 5,
   "id": "c2d10843",
   "metadata": {},
   "outputs": [],
   "source": [
    "def load_csv(filepath):\n",
    "    data =  []\n",
    "    col = []\n",
    "    checkcol = False\n",
    "    with open(filepath) as f:\n",
    "        for val in f.readlines():\n",
    "            val = val.replace(\"\\n\",\"\")\n",
    "            val = val.split(',')\n",
    "            if checkcol is False:\n",
    "                col = val\n",
    "                checkcol = True\n",
    "            else:\n",
    "                data.append(val)\n",
    "    df = pd.DataFrame(data=data, columns=col)\n",
    "    return df\n"
   ]
  },
  {
   "cell_type": "code",
   "execution_count": 12,
   "id": "ebda35c7",
   "metadata": {},
   "outputs": [
    {
     "name": "stdout",
     "output_type": "stream",
     "text": [
      "<class 'pandas.core.frame.DataFrame'>\n",
      "MultiIndex: 162966 entries, ('series-b', 'news') to ('series-c+', 'cleantech')\n",
      "Data columns (total 19 columns):\n",
      " #   Column              Non-Null Count   Dtype  \n",
      "---  ------              --------------   -----  \n",
      " 0   id                  162966 non-null  int64  \n",
      " 1   funding_round_id    162966 non-null  int64  \n",
      " 2   funded_object_id    162966 non-null  object \n",
      " 3   investor_object_id  162966 non-null  object \n",
      " 4   entity_type         162966 non-null  object \n",
      " 5   name                162966 non-null  object \n",
      " 6   permalink           162966 non-null  object \n",
      " 7   status              162966 non-null  object \n",
      " 8   founded_at          162966 non-null  object \n",
      " 9   description         162966 non-null  object \n",
      " 10  country_code        162966 non-null  object \n",
      " 11  first_funding_at    162966 non-null  object \n",
      " 12  last_funding_at     162966 non-null  object \n",
      " 13  funding_rounds      162966 non-null  int64  \n",
      " 14  funding_total_usd   162966 non-null  float64\n",
      " 15  milestones          162966 non-null  int64  \n",
      " 16  funded_at           162966 non-null  object \n",
      " 17  raised_amount_usd   162966 non-null  float64\n",
      " 18  count               162966 non-null  int64  \n",
      "dtypes: float64(2), int64(5), object(12)\n",
      "memory usage: 23.9+ MB\n"
     ]
    }
   ],
   "source": [
    "url = \"file:///Users/anshenhuang/Downloads/EDA.csv\"\n",
    "data = pd.read_csv(url).set_index([\"funding_round_type\", \"category_code\"])\n",
    "data.info()\n"
   ]
  },
  {
   "cell_type": "code",
   "execution_count": 13,
   "id": "0f2e1ca0",
   "metadata": {},
   "outputs": [
    {
     "data": {
      "text/plain": [
       "id                    0\n",
       "funding_round_id      0\n",
       "funded_object_id      0\n",
       "investor_object_id    0\n",
       "entity_type           0\n",
       "name                  0\n",
       "permalink             0\n",
       "status                0\n",
       "founded_at            0\n",
       "description           0\n",
       "country_code          0\n",
       "first_funding_at      0\n",
       "last_funding_at       0\n",
       "funding_rounds        0\n",
       "funding_total_usd     0\n",
       "milestones            0\n",
       "funded_at             0\n",
       "raised_amount_usd     0\n",
       "count                 0\n",
       "dtype: int64"
      ]
     },
     "execution_count": 13,
     "metadata": {},
     "output_type": "execute_result"
    }
   ],
   "source": [
    "def num_missing(df):\n",
    "    \"Return the number of missing items in each column of df\"\n",
    "    return df.isnull().sum()\n",
    "num_missing(data)"
   ]
  },
  {
   "cell_type": "code",
   "execution_count": null,
   "id": "bda01b16",
   "metadata": {},
   "outputs": [],
   "source": []
  },
  {
   "cell_type": "code",
   "execution_count": null,
   "id": "2144b0aa",
   "metadata": {},
   "outputs": [],
   "source": []
  }
 ],
 "metadata": {
  "kernelspec": {
   "display_name": "Python 3 (ipykernel)",
   "language": "python",
   "name": "python3"
  },
  "language_info": {
   "codemirror_mode": {
    "name": "ipython",
    "version": 3
   },
   "file_extension": ".py",
   "mimetype": "text/x-python",
   "name": "python",
   "nbconvert_exporter": "python",
   "pygments_lexer": "ipython3",
   "version": "3.9.7"
  }
 },
 "nbformat": 4,
 "nbformat_minor": 5
}
